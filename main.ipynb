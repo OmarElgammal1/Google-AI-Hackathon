{
  "cells": [
    {
      "cell_type": "markdown",
      "metadata": {
        "id": "hNjZGpjihogf"
      },
      "source": [
        "## Import necessary packages"
      ]
    },
    {
      "cell_type": "code",
      "execution_count": 7,
      "metadata": {
        "id": "z4Pe-wSyhogg"
      },
      "outputs": [],
      "source": [
        "import textwrap\n",
        "from langchain_google_genai import ChatGoogleGenerativeAI, GoogleGenerativeAIEmbeddings\n",
        "from IPython.display import Markdown, display\n",
        "from dotenv import load_dotenv\n",
        "from langchain_community.document_loaders import PyPDFLoader\n",
        "from langchain_experimental.text_splitter import SemanticChunker\n",
        "from langchain_community.vectorstores import FAISS\n",
        "import pandas as pd\n",
        "def to_markdown(text):\n",
        "  text = text.replace('•', '  *')\n",
        "  return Markdown(textwrap.indent(text, '> ', predicate=lambda _: True))"
      ]
    },
    {
      "cell_type": "markdown",
      "metadata": {
        "id": "g3eh3pzQhogi"
      },
      "source": [
        "## Load Model"
      ]
    },
    {
      "cell_type": "code",
      "execution_count": 25,
      "metadata": {
        "id": "4RFOews7hogi"
      },
      "outputs": [],
      "source": [
        "# Import the Python SDK\n",
        "import google.generativeai as genai\n",
        "\n",
        "my_key = 'YOUR_API_KEY'\n",
        "genai.configure(api_key=my_key)\n",
        "\n",
        "model = genai.GenerativeModel('gemini-pro')"
      ]
    },
    {
      "cell_type": "code",
      "execution_count": 9,
      "metadata": {
        "id": "CQBggkrNhogi"
      },
      "outputs": [],
      "source": [
        "load_dotenv()\n",
        "llm = ChatGoogleGenerativeAI(model=\"gemini-pro\", google_api_key = my_key)"
      ]
    },
    {
      "cell_type": "code",
      "execution_count": 26,
      "metadata": {
        "id": "035CUO-7hogi"
      },
      "outputs": [],
      "source": [
        "loader = PyPDFLoader(r\"ch1.pdf\")\n",
        "pages = loader.load_and_split()\n",
        "doc = '\\n'.join(str(p.page_content) for p in pages[:3])"
      ]
    },
    {
      "cell_type": "code",
      "execution_count": 27,
      "metadata": {
        "id": "y7oFLGcyhogj"
      },
      "outputs": [],
      "source": [
        "embeddings = GoogleGenerativeAIEmbeddings(model='models/embedding-001', google_api_key = my_key)"
      ]
    },
    {
      "cell_type": "code",
      "execution_count": 28,
      "metadata": {
        "id": "0dYguUMShogj"
      },
      "outputs": [],
      "source": [
        "text_splitter = SemanticChunker(embeddings)"
      ]
    },
    {
      "cell_type": "code",
      "execution_count": 29,
      "metadata": {
        "colab": {
          "base_uri": "https://localhost:8080/",
          "height": 145
        },
        "id": "oViMySY_hogj",
        "outputId": "0a7fea2e-91d4-4e6a-de5b-1b94620492f7"
      },
      "outputs": [
        {
          "data": {
            "application/vnd.google.colaboratory.intrinsic+json": {
              "type": "string"
            },
            "text/plain": [
              "'Chapter 1. The Machine Learning\\nLandscape\\nNot so long ago, if you had picked up your phone and asked it the way\\nhome, it would have ignored you—and people would have questioned your\\nsanity . But machine learning is no longer science fiction: billions of people\\nuse it every day . And the truth is it has actually been around for decades in\\nsome specialized applications, such as optical character recognition (OCR). The first ML application that really became mainstream, improving the\\nlives of hundreds of millions of people, took over the world back in the\\n1990s: the spam filter . It’s not exactly a self-aware robot, but it does\\ntechnically qualify as machine learning: it has actually learned so well that\\nyou seldom need to flag an email as spam anymore. It was followed by\\nhundreds of ML applications that now quietly power hundreds of products\\nand features that you use regularly: voice prompts, automatic translation,\\nimage search, product recommendations, and many more. Where does machine learning start and where does it end?'"
            ]
          },
          "execution_count": 29,
          "metadata": {},
          "output_type": "execute_result"
        }
      ],
      "source": [
        "texts = text_splitter.split_text(doc)\n",
        "len(texts)\n",
        "texts[0]"
      ]
    },
    {
      "cell_type": "code",
      "execution_count": 30,
      "metadata": {
        "id": "9ZNopiWqj7Fi"
      },
      "outputs": [],
      "source": [
        "# Save DataFrame to csv file\n",
        "df = pd.DataFrame(texts, columns=['Text'])\n",
        "df.to_csv('texts.csv', index=False)"
      ]
    },
    {
      "cell_type": "code",
      "execution_count": 31,
      "metadata": {
        "id": "8-2qze4vkR7F"
      },
      "outputs": [],
      "source": [
        "df = pd.read_csv('texts.csv')\n",
        "texts = df['Text'].tolist()"
      ]
    },
    {
      "cell_type": "code",
      "execution_count": 32,
      "metadata": {
        "colab": {
          "base_uri": "https://localhost:8080/",
          "height": 166
        },
        "id": "eu_gI6jOhogj",
        "outputId": "4c41b2dc-d7c0-4310-c079-ae73980607ab"
      },
      "outputs": [
        {
          "data": {
            "text/markdown": [
              "> Chapter 1. The Machine Learning\n",
              "> Landscape\n",
              "> Not so long ago, if you had picked up your phone and asked it the way\n",
              "> home, it would have ignored you—and people would have questioned your\n",
              "> sanity . But machine learning is no longer science fiction: billions of people\n",
              "> use it every day . And the truth is it has actually been around for decades in\n",
              "> some specialized applications, such as optical character recognition (OCR). The first ML application that really became mainstream, improving the\n",
              "> lives of hundreds of millions of people, took over the world back in the\n",
              "> 1990s: the spam filter . It’s not exactly a self-aware robot, but it does\n",
              "> technically qualify as machine learning: it has actually learned so well that\n",
              "> you seldom need to flag an email as spam anymore. It was followed by\n",
              "> hundreds of ML applications that now quietly power hundreds of products\n",
              "> and features that you use regularly: voice prompts, automatic translation,\n",
              "> image search, product recommendations, and many more. Where does machine learning start and where does it end?"
            ],
            "text/plain": [
              "<IPython.core.display.Markdown object>"
            ]
          },
          "execution_count": 32,
          "metadata": {},
          "output_type": "execute_result"
        }
      ],
      "source": [
        "to_markdown(texts[0])"
      ]
    },
    {
      "cell_type": "code",
      "execution_count": 33,
      "metadata": {
        "id": "03O6Dk-ihogj"
      },
      "outputs": [],
      "source": [
        "docsearch = FAISS.from_texts(texts, embeddings)"
      ]
    },
    {
      "cell_type": "code",
      "execution_count": 34,
      "metadata": {
        "colab": {
          "base_uri": "https://localhost:8080/"
        },
        "id": "p0kSvz-rhogj",
        "outputId": "3417699c-c2d7-4d28-f0df-143f1d51dcab"
      },
      "outputs": [
        {
          "name": "stdout",
          "output_type": "stream",
          "text": [
            "Chapter 1. The Machine Learning\n",
            "Landscape\n",
            "Not so long ago, if you had picked up your phone and asked it the way\n",
            "home, it would have ignored you—and people would have questioned your\n",
            "sanity . But machine learning is no longer science fiction: billions of people\n",
            "use it every day . And the truth is it has actually been around for decades in\n",
            "some specialized applications, such as optical character recognition (OCR). The first ML application that really became mainstream, improving the\n",
            "lives of hundreds of millions of people, took over the world back in the\n",
            "1990s: the spam filter . It’s not exactly a self-aware robot, but it does\n",
            "technically qualify as machine learning: it has actually learned so well that\n",
            "you seldom need to flag an email as spam anymore. It was followed by\n",
            "hundreds of ML applications that now quietly power hundreds of products\n",
            "and features that you use regularly: voice prompts, automatic translation,\n",
            "image search, product recommendations, and many more. Where does machine learning start and where does it end?\n"
          ]
        }
      ],
      "source": [
        "query = 'examples of ML Applications'\n",
        "print(docsearch.similarity_search(query)[0].page_content)"
      ]
    },
    {
      "cell_type": "markdown",
      "metadata": {
        "id": "udNnefS6hogk"
      },
      "source": [
        "## Generate Summary"
      ]
    },
    {
      "cell_type": "code",
      "execution_count": 35,
      "metadata": {
        "id": "DnMTTIbhhogk"
      },
      "outputs": [],
      "source": [
        "def create_context(idx):\n",
        "  if idx == 0:\n",
        "    return ''\n",
        "  else:\n",
        "    past = ''\n",
        "    for i in range(idx):\n",
        "      past = past + texts[i]\n",
        "      prompt = \"Provide a detailed summarize to the following text:\\n\\n\\n\" + past\n",
        "      response = model.generate_content(prompt)\n",
        "      context = \"\"\"This is a summary of the previous text, use it to help you understand the current text more in order to give better results \\n\\n\\n\"\"\" + response.text\n",
        "    return context"
      ]
    },
    {
      "cell_type": "code",
      "execution_count": 36,
      "metadata": {
        "id": "y-hkaBMxhogk"
      },
      "outputs": [],
      "source": [
        "idx = len(texts)\n",
        "highlighted_pages = []\n",
        "for i in range(idx):\n",
        "    prompt_important = create_context(i) + \"\"\"\\n\\n Prompt: {Tell me exactly what are the most important 4 to 8 sentences in this text, don't return less than 3 sentences\n",
        "        don't write anything except for the important sentences please.} \\n\\n\\n\"\"\" + texts[i]\n",
        "    important_sentences = model.generate_content(prompt_important)\n",
        "\n",
        "    prompt_html = \"\"\"Can you turn the following text into html code, Use styles and change fonts but never change any sentence or add any sentence,\n",
        "        use only sentences from the text, please don't change any sentence: \"\"\" + texts[i]\n",
        "    html_response = model.generate_content(prompt_html)\n",
        "\n",
        "    prompt_highlight = \"\"\"I have this HTML code:\\n\"\"\" + html_response.text + \"\"\" Highlight the in the html the following sentences and don't change any sentence, just yellow highlight them:\\n\\n\\n\n",
        "        \"\"\" + important_sentences.text\n",
        "\n",
        "    highlighted_response = model.generate_content(prompt_highlight)\n",
        "    highlighted_pages.append(highlighted_response.text)\n"
      ]
    },
    {
      "cell_type": "code",
      "execution_count": 37,
      "metadata": {
        "colab": {
          "base_uri": "https://localhost:8080/"
        },
        "id": "ZszOpKhBtCfU",
        "outputId": "581cf026-b1ea-4b2c-d539-e02fb1a6d559"
      },
      "outputs": [
        {
          "name": "stdout",
          "output_type": "stream",
          "text": [
            "String content saved to: results/page0.html\n",
            "String content saved to: results/page1.html\n",
            "String content saved to: results/page2.html\n"
          ]
        }
      ],
      "source": [
        "for i in range(len(highlighted_pages)):\n",
        "    # Specify the file path where you want to save the text file\n",
        "    file_path = \"results/page\"+str(i)+\".html\"\n",
        "    # Open the file in write mode and write the content of the string to it\n",
        "    with open(file_path, \"w\") as file:\n",
        "        file.write(highlighted_pages[i])\n",
        "    print(\"String content saved to:\", file_path)\n"
      ]
    }
  ],
  "metadata": {
    "accelerator": "GPU",
    "colab": {
      "gpuType": "T4",
      "provenance": []
    },
    "kernelspec": {
      "display_name": "Python 3",
      "name": "python3"
    },
    "language_info": {
      "codemirror_mode": {
        "name": "ipython",
        "version": 3
      },
      "file_extension": ".py",
      "mimetype": "text/x-python",
      "name": "python",
      "nbconvert_exporter": "python",
      "pygments_lexer": "ipython3",
      "version": "3.11.5"
    }
  },
  "nbformat": 4,
  "nbformat_minor": 0
}
