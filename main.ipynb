{
 "cells": [
  {
   "cell_type": "markdown",
   "metadata": {},
   "source": [
    "## Import necessary packages"
   ]
  },
  {
   "cell_type": "code",
   "execution_count": 120,
   "metadata": {},
   "outputs": [],
   "source": [
    "import pathlib\n",
    "import textwrap\n",
    "from langchain_google_genai import ChatGoogleGenerativeAI, GoogleGenerativeAIEmbeddings\n",
    "from IPython.display import display\n",
    "from IPython.display import Markdown\n",
    "from dotenv import load_dotenv\n",
    "from langchain_community.document_loaders import PyPDFLoader\n",
    "from langchain_text_splitters import RecursiveCharacterTextSplitter\n",
    "from langchain_community.vectorstores import FAISS\n",
    "def to_markdown(text):\n",
    "  text = text.replace('•', '  *')\n",
    "  return Markdown(textwrap.indent(text, '> ', predicate=lambda _: True))"
   ]
  },
  {
   "cell_type": "markdown",
   "metadata": {},
   "source": [
    "## Load Model"
   ]
  },
  {
   "cell_type": "code",
   "execution_count": 121,
   "metadata": {},
   "outputs": [],
   "source": [
    "load_dotenv()\n",
    "llm = ChatGoogleGenerativeAI(model=\"gemini-pro\")"
   ]
  },
  {
   "cell_type": "code",
   "execution_count": 122,
   "metadata": {},
   "outputs": [],
   "source": [
    "loader = PyPDFLoader(r\"E:\\Courses\\projects\\Google-AI-Hackathon\\ch1.pdf\")\n",
    "pages = loader.load_and_split()\n",
    "doc = '\\n'.join(str(p.page_content) for p in pages[:3])"
   ]
  },
  {
   "cell_type": "code",
   "execution_count": 123,
   "metadata": {},
   "outputs": [
    {
     "data": {
      "text/plain": [
       "'Chapter 1. The Machine Learning\\nLandscape\\nNot so long ago, if you had picked up your phone and asked it the way\\nhome, it would have ignored you—and people would have questioned your\\nsanity . But machine learning is no longer science fiction: billions of people\\nuse it every day . And the truth is it has actually been around for decades in\\nsome specialized applications, such as optical character recognition (OCR).\\nThe first ML application that really became mainstream, improving the\\nlives of hundreds of millions of people, took over the world back in the\\n1990s: the spam filter . It’s not exactly a self-aware robot, but it does\\ntechnically qualify as machine learning: it has actually learned so well that\\nyou seldom need to flag an email as spam anymore. It was followed by\\nhundreds of ML applications that now quietly power hundreds of products\\nand features that you use regularly: voice prompts, automatic translation,\\nimage search, product recommendations, and many more.'"
      ]
     },
     "execution_count": 123,
     "metadata": {},
     "output_type": "execute_result"
    }
   ],
   "source": [
    "text_splitter = RecursiveCharacterTextSplitter(\n",
    "    chunk_size=1000,\n",
    "    chunk_overlap=100,\n",
    "    length_function = len,\n",
    ")\n",
    "texts = text_splitter.split_text(doc)\n",
    "texts[0]"
   ]
  },
  {
   "cell_type": "code",
   "execution_count": 124,
   "metadata": {},
   "outputs": [],
   "source": [
    "embeddings = GoogleGenerativeAIEmbeddings(model='models/embedding-001')"
   ]
  },
  {
   "cell_type": "code",
   "execution_count": 125,
   "metadata": {},
   "outputs": [],
   "source": [
    "docsearch = FAISS.from_texts(texts, embeddings)"
   ]
  },
  {
   "cell_type": "code",
   "execution_count": 126,
   "metadata": {},
   "outputs": [
    {
     "name": "stdout",
     "output_type": "stream",
     "text": [
      "Chapter 1. The Machine Learning\n",
      "Landscape\n",
      "Not so long ago, if you had picked up your phone and asked it the way\n",
      "home, it would have ignored you—and people would have questioned your\n",
      "sanity . But machine learning is no longer science fiction: billions of people\n",
      "use it every day . And the truth is it has actually been around for decades in\n",
      "some specialized applications, such as optical character recognition (OCR).\n",
      "The first ML application that really became mainstream, improving the\n",
      "lives of hundreds of millions of people, took over the world back in the\n",
      "1990s: the spam filter . It’s not exactly a self-aware robot, but it does\n",
      "technically qualify as machine learning: it has actually learned so well that\n",
      "you seldom need to flag an email as spam anymore. It was followed by\n",
      "hundreds of ML applications that now quietly power hundreds of products\n",
      "and features that you use regularly: voice prompts, automatic translation,\n",
      "image search, product recommendations, and many more.\n"
     ]
    }
   ],
   "source": [
    "query = 'examples of ML Applications'\n",
    "print(docsearch.similarity_search(query)[0].page_content)"
   ]
  },
  {
   "cell_type": "markdown",
   "metadata": {},
   "source": [
    "### Next Steps:\n",
    "1. write prompt template to generate summary for document\n",
    "2. pass summary as query to docsearch\n",
    "3. use result of search similarity to be highlighted"
   ]
  }
 ],
 "metadata": {
  "kernelspec": {
   "display_name": "env",
   "language": "python",
   "name": "python3"
  },
  "language_info": {
   "codemirror_mode": {
    "name": "ipython",
    "version": 3
   },
   "file_extension": ".py",
   "mimetype": "text/x-python",
   "name": "python",
   "nbconvert_exporter": "python",
   "pygments_lexer": "ipython3",
   "version": "3.12.1"
  }
 },
 "nbformat": 4,
 "nbformat_minor": 2
}
